{
 "cells": [
  {
   "cell_type": "markdown",
   "id": "15f6f471-a9ee-438f-a978-f8541ed02d22",
   "metadata": {},
   "source": [
    "### Getting Started with GEE "
   ]
  },
  {
   "cell_type": "code",
   "execution_count": 1,
   "id": "b62ce65b-8cb6-4dfa-a994-8478d4ede44d",
   "metadata": {},
   "outputs": [],
   "source": [
    "import ee"
   ]
  },
  {
   "cell_type": "code",
   "execution_count": 2,
   "id": "8ede4095-4c8c-4735-b726-a2d57d037dc3",
   "metadata": {},
   "outputs": [
    {
     "data": {
      "text/html": [
       "<p>To authorize access needed by Earth Engine, open the following\n",
       "        URL in a web browser and follow the instructions:</p>\n",
       "        <p><a href=https://code.earthengine.google.com/client-auth?scopes=https%3A//www.googleapis.com/auth/earthengine%20https%3A//www.googleapis.com/auth/devstorage.full_control&request_id=NdNjwfQcsPM6S6G-m4B_kJhOu4_PZdLVekVzGcu1UFw&tc=1pjnfW8TxkBU_fectgTOti5W-QogDZPmMWDRKGSqt_s&cc=ldNrUiQjo5XzyEkQ3xCgwdEVzmEwcGcJ0HTa8bXVgHg>https://code.earthengine.google.com/client-auth?scopes=https%3A//www.googleapis.com/auth/earthengine%20https%3A//www.googleapis.com/auth/devstorage.full_control&request_id=NdNjwfQcsPM6S6G-m4B_kJhOu4_PZdLVekVzGcu1UFw&tc=1pjnfW8TxkBU_fectgTOti5W-QogDZPmMWDRKGSqt_s&cc=ldNrUiQjo5XzyEkQ3xCgwdEVzmEwcGcJ0HTa8bXVgHg</a></p>\n",
       "        <p>The authorization workflow will generate a code, which you\n",
       "        should paste in the box below</p>\n",
       "        "
      ],
      "text/plain": [
       "<IPython.core.display.HTML object>"
      ]
     },
     "metadata": {},
     "output_type": "display_data"
    },
    {
     "name": "stdin",
     "output_type": "stream",
     "text": [
      "Enter verification code:  4/1AfgeXvsSoTJkncF3QcMgX9m_YNx1LeYhSsyeYJYWJd20lAopDY3qFWLWcq0\n"
     ]
    },
    {
     "name": "stdout",
     "output_type": "stream",
     "text": [
      "\n",
      "Successfully saved authorization token.\n"
     ]
    }
   ],
   "source": [
    "ee.Authenticate()"
   ]
  },
  {
   "cell_type": "code",
   "execution_count": 3,
   "id": "8adb9679-52c8-41b7-b2bb-58b82655e305",
   "metadata": {},
   "outputs": [],
   "source": [
    "ee.Initialize()"
   ]
  },
  {
   "cell_type": "code",
   "execution_count": 5,
   "id": "111402f9-e0f5-4713-9528-0e9fdd129666",
   "metadata": {},
   "outputs": [],
   "source": [
    "lc = ee.ImageCollection('MODIS/006/MCD12Q1')\n",
    "lst = ee.ImageCollection('MODIS/006/MOD11A1')\n",
    "ele = ee.Image('USGS/SRTMGL1_003')"
   ]
  },
  {
   "cell_type": "code",
   "execution_count": 6,
   "id": "51c54b7d-174d-479f-bfb4-4389c0d9c644",
   "metadata": {},
   "outputs": [],
   "source": [
    "i_date = '2017-01-01'\n",
    "f_date = '2020-01-01'\n",
    "lst = lst.select('LST_Day_1km', 'QC_Day').filterDate(i_date, f_date)"
   ]
  },
  {
   "cell_type": "code",
   "execution_count": 49,
   "id": "e796bba3-af40-4468-8463-b8d0da059673",
   "metadata": {},
   "outputs": [],
   "source": [
    "u_lon = 4.8148\n",
    "u_lat = 45.7758\n",
    "u_point = ee.Geometry.Point(u_lon, u_lat)"
   ]
  },
  {
   "cell_type": "code",
   "execution_count": 50,
   "id": "930a02a9-c029-4eca-9575-cdc4f8ccc4a1",
   "metadata": {},
   "outputs": [],
   "source": [
    "r_lon = 5.175964\n",
    "r_lat = 45.574064\n",
    "r_point = ee.Geometry.Point(r_lon, r_lat)"
   ]
  },
  {
   "cell_type": "code",
   "execution_count": 51,
   "id": "1c08683d-b869-49b7-abf7-95fd6c627d72",
   "metadata": {},
   "outputs": [],
   "source": [
    "scale = 1000"
   ]
  },
  {
   "cell_type": "code",
   "execution_count": 52,
   "id": "10c04d74-323e-45d3-ba30-a73da0255187",
   "metadata": {},
   "outputs": [
    {
     "name": "stdout",
     "output_type": "stream",
     "text": [
      "Ground elevation at selected urban point is:  196  m\n"
     ]
    }
   ],
   "source": [
    "# printing the elevation of the selected urban point\n",
    "elv_urban_point = ele.sample(u_point, scale).first().get('elevation').getInfo()\n",
    "print('Ground elevation at selected urban point is: ', elv_urban_point, ' m')"
   ]
  },
  {
   "cell_type": "code",
   "execution_count": 53,
   "id": "1ddd17f8-e022-4498-8921-855829957b84",
   "metadata": {},
   "outputs": [
    {
     "name": "stdout",
     "output_type": "stream",
     "text": [
      "Land surface tempreture at urban selected point is:  23.27  degree Celsius\n"
     ]
    }
   ],
   "source": [
    "# printing the land surface tempreture of the selected urban piont\n",
    "lst_urban_point = lst.mean().sample(u_point, scale).first().get('LST_Day_1km').getInfo()\n",
    "print('Land surface tempreture at urban selected point is: ', round(lst_urban_point*0.02 - 273, 2), ' degree Celsius')"
   ]
  },
  {
   "cell_type": "code",
   "execution_count": 56,
   "id": "fa514b8a-3376-42f8-ab32-12fd613c32c2",
   "metadata": {},
   "outputs": [
    {
     "name": "stdout",
     "output_type": "stream",
     "text": [
      "Landcover value at the selected urban point is:  13\n"
     ]
    }
   ],
   "source": [
    "# printing the landcover type of the selected urban point\n",
    "lc_urban_point = lc.first().sample(u_point, scale).first().get('LC_Type1').getInfo()\n",
    "print('Landcover value at the selected urban point is: ', lc_urban_point)"
   ]
  },
  {
   "cell_type": "code",
   "execution_count": null,
   "id": "708c2a76-cb86-49fe-ba75-c654f5fd6e7e",
   "metadata": {},
   "outputs": [],
   "source": []
  }
 ],
 "metadata": {
  "kernelspec": {
   "display_name": "Python 3 (ipykernel)",
   "language": "python",
   "name": "python3"
  },
  "language_info": {
   "codemirror_mode": {
    "name": "ipython",
    "version": 3
   },
   "file_extension": ".py",
   "mimetype": "text/x-python",
   "name": "python",
   "nbconvert_exporter": "python",
   "pygments_lexer": "ipython3",
   "version": "3.9.7"
  }
 },
 "nbformat": 4,
 "nbformat_minor": 5
}
